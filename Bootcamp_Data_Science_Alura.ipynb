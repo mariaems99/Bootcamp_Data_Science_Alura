{
  "nbformat": 4,
  "nbformat_minor": 0,
  "metadata": {
    "colab": {
      "provenance": [],
      "authorship_tag": "ABX9TyOzZiickAxnRgjF7RNC1NAK",
      "include_colab_link": true
    },
    "kernelspec": {
      "name": "python3",
      "display_name": "Python 3"
    },
    "language_info": {
      "name": "python"
    }
  },
  "cells": [
    {
      "cell_type": "markdown",
      "metadata": {
        "id": "view-in-github",
        "colab_type": "text"
      },
      "source": [
        "<a href=\"https://colab.research.google.com/github/mariaems99/Bootcamp_Data_Science_Alura/blob/main/Bootcamp_Data_Science_Alura.ipynb\" target=\"_parent\"><img src=\"https://colab.research.google.com/assets/colab-badge.svg\" alt=\"Open In Colab\"/></a>"
      ]
    },
    {
      "cell_type": "markdown",
      "source": [
        "#Coleta e amostragem de dados\n",
        "\n",
        "Crie um programa que solicite à pessoa usuária digitar seu nome, e imprima “Olá, [nome]!”.\n",
        "\n",
        "Crie um programa que solicite à pessoa usuária digitar seu nome e idade, e imprima “Olá, [nome], você tem [idade] anos.”.\n",
        "\n",
        "Crie um programa que solicite à pessoa usuária digitar seu nome, idade e altura em metros, e imprima “Olá, [nome], você tem [idade] anos e mede [altura] metros!”."
      ],
      "metadata": {
        "id": "HjxZjoHCrf41"
      }
    },
    {
      "cell_type": "code",
      "source": [
        "nome = input('Digite seu nome:')\n",
        "print('Olá',nome)"
      ],
      "metadata": {
        "colab": {
          "base_uri": "https://localhost:8080/"
        },
        "id": "o5oyqxYArnVE",
        "outputId": "f138eec8-9a80-427d-937d-58ef447b9b49"
      },
      "execution_count": null,
      "outputs": [
        {
          "output_type": "stream",
          "name": "stdout",
          "text": [
            "Digite seu nome:MARIA\n",
            "Olá MARIA\n"
          ]
        }
      ]
    },
    {
      "cell_type": "code",
      "source": [
        "nome = input('Digite seu nome:')\n",
        "idade = input('Digite sua idade:')\n",
        "print(f'Olá',nome,'você tem',idade,'anos')"
      ],
      "metadata": {
        "colab": {
          "base_uri": "https://localhost:8080/"
        },
        "id": "o-32rV9esdhY",
        "outputId": "3837d16e-51e1-4629-8838-2f2cfdbba1c1"
      },
      "execution_count": null,
      "outputs": [
        {
          "output_type": "stream",
          "name": "stdout",
          "text": [
            "Digite seu nome:Maria\n",
            "Digite sua idade:25\n",
            "Olá Maria você tem 25 anos\n"
          ]
        }
      ]
    },
    {
      "cell_type": "code",
      "source": [
        "nome = input('Digite seu nome:')\n",
        "idade = input('Digite sua idade:')\n",
        "altura = input('Digite sua altura:')\n",
        "print(f'Olá',nome,'você tem',idade,'anos e mede',altura,'metros')"
      ],
      "metadata": {
        "colab": {
          "base_uri": "https://localhost:8080/"
        },
        "id": "3wFu00S5skoN",
        "outputId": "273c2acd-56ea-4861-d2d8-a7b91b3fb8ec"
      },
      "execution_count": null,
      "outputs": [
        {
          "output_type": "stream",
          "name": "stdout",
          "text": [
            "Digite seu nome:Maria\n",
            "Digite sua idade:25\n",
            "Digite sua altura:1.55\n",
            "Olá Maria você tem 25 anos e mede 1.55 metros\n"
          ]
        }
      ]
    },
    {
      "cell_type": "markdown",
      "source": [
        "#Calculadora com operadores\n"
      ],
      "metadata": {
        "id": "UPJ6ylIBs7AY"
      }
    },
    {
      "cell_type": "markdown",
      "source": [
        "Crie um programa que solicite dois valores numéricos à pessoa usuária e imprima a soma dos dois valores."
      ],
      "metadata": {
        "id": "KW9VvH9dtIH_"
      }
    },
    {
      "cell_type": "code",
      "source": [
        "valor1 = input(\"Digite o primeiro valor \")\n",
        "valor2 = input(\"Digite o segundo valor \")\n",
        "soma = int(valor1) + int(valor2)\n",
        "print(f'A soma dos valores é',soma)"
      ],
      "metadata": {
        "colab": {
          "base_uri": "https://localhost:8080/"
        },
        "id": "ias5JBPFtOe-",
        "outputId": "94905681-a042-456c-954d-b61bf2cf343e"
      },
      "execution_count": null,
      "outputs": [
        {
          "output_type": "stream",
          "name": "stdout",
          "text": [
            "Digite o primeiro valor 5\n",
            "Digite o segundo valor 2\n",
            "A soma dos valores é 7\n"
          ]
        }
      ]
    },
    {
      "cell_type": "markdown",
      "source": [
        "Crie um programa que solicite três valores numéricos à pessoa usuária e imprima a soma dos três valores."
      ],
      "metadata": {
        "id": "hAc7hXwhuYav"
      }
    },
    {
      "cell_type": "code",
      "source": [
        "valor1 = input(\"Digite o primeiro valor \")\n",
        "valor2 = input(\"Digite o segundo valor \")\n",
        "valor3 = input(\"Digite o terceiro valor \")\n",
        "soma = int(valor1) + int(valor2) + int(valor3)\n",
        "print(f'A soma dos valores é',soma)\n"
      ],
      "metadata": {
        "id": "R3xsfNc1uY9d"
      },
      "execution_count": null,
      "outputs": []
    },
    {
      "cell_type": "markdown",
      "source": [
        "Crie um programa que solicite dois valores numéricos à pessoa usuária e imprima a subtração do primeiro pelo o segundo valor."
      ],
      "metadata": {
        "id": "bUoHSTZxyScg"
      }
    },
    {
      "cell_type": "code",
      "source": [
        "valor1 = input('Digite o primeiro valor ')\n",
        "valor2 = input('Digite o segundo valor ')\n",
        "subtracao = int(valor1) - int(valor2)\n",
        "print(f'A subtração dos valores é',subtracao)"
      ],
      "metadata": {
        "colab": {
          "base_uri": "https://localhost:8080/"
        },
        "id": "nR8o2J9YzOFV",
        "outputId": "88f9e0fa-19ad-4247-dd5e-0ce237ab91aa"
      },
      "execution_count": null,
      "outputs": [
        {
          "output_type": "stream",
          "name": "stdout",
          "text": [
            "Digite o primeiro valor5\n",
            "Digite o segundo valor6\n",
            "A subtração dos valores é -1\n"
          ]
        }
      ]
    },
    {
      "cell_type": "markdown",
      "source": [
        "Crie um programa que solicite dois valores numéricos à pessoa usuária e imprima a multiplicação dos dois valores."
      ],
      "metadata": {
        "id": "rNhLa2Jpzqzw"
      }
    },
    {
      "cell_type": "code",
      "source": [
        "valor1 = input('Digite o primeiro valor ')\n",
        "valor2 = input('Digite o segundo valor ')\n",
        "multiplicacao = int(valor1) * int(valor2)\n",
        "print(f'A multiplicação dos valores é',multiplicacao)"
      ],
      "metadata": {
        "colab": {
          "base_uri": "https://localhost:8080/"
        },
        "id": "WLaV8y2myTBP",
        "outputId": "127cd613-43c4-4e86-8545-db02ea6e85f7"
      },
      "execution_count": null,
      "outputs": [
        {
          "output_type": "stream",
          "name": "stdout",
          "text": [
            "Digite o primeiro valor 5\n",
            "Digite o segundo valor 6\n",
            "A multiplicação dos valores é 30\n"
          ]
        }
      ]
    },
    {
      "cell_type": "markdown",
      "source": [
        "Crie um programa que solicite dois valores numéricos, um numerador e um denominador, e realize a divisão entre os dois valores. Deixe claro que o valor do denominador não pode ser 0"
      ],
      "metadata": {
        "id": "CsuQLq7O4CwS"
      }
    },
    {
      "cell_type": "code",
      "source": [
        "valor1 = input('Digite o numerador ')\n",
        "valor2 = input('Digite o denominador ')\n",
        "divisao = int(valor1) / int(valor2)\n",
        "print(f'A divisão dos valores é',divisao)\n"
      ],
      "metadata": {
        "colab": {
          "base_uri": "https://localhost:8080/"
        },
        "id": "6QNRKBykzy2Y",
        "outputId": "0761f3cb-315e-49ca-92cb-df4338d1ad42"
      },
      "execution_count": null,
      "outputs": [
        {
          "output_type": "stream",
          "name": "stdout",
          "text": [
            "Digite o numerador 5\n",
            "Digite o denominador 8\n",
            "A divisão dos valores é 0.625\n"
          ]
        }
      ]
    },
    {
      "cell_type": "markdown",
      "source": [
        "Crie um programa que solicite dois valores numéricos, um operador e uma potência, e realize a exponenciação entre esses dois valores."
      ],
      "metadata": {
        "id": "JdX6jLwd5CZI"
      }
    },
    {
      "cell_type": "code",
      "source": [
        "operador = input('Digite o operador ')\n",
        "potencia = input('Digite a potência ')\n",
        "exponenciacao = int(operador)**int(potencia)\n",
        "print(f'A exponenciação é',exponenciacao)"
      ],
      "metadata": {
        "colab": {
          "base_uri": "https://localhost:8080/"
        },
        "id": "Yfu83RQS45_Y",
        "outputId": "3d9f574c-2c94-44f7-ca6d-de922457a930"
      },
      "execution_count": null,
      "outputs": [
        {
          "output_type": "stream",
          "name": "stdout",
          "text": [
            "Digite o operador5\n",
            "Digite a potência2\n",
            "A exponenciação é 25\n"
          ]
        }
      ]
    },
    {
      "cell_type": "markdown",
      "source": [
        "Crie um programa que solicite dois valores numéricos, um numerador e um denominador e realize a divisão inteira entre os dois valores. Deixe claro que o valor do denominador não pode ser 0."
      ],
      "metadata": {
        "id": "qGqnd_W95zAF"
      }
    },
    {
      "cell_type": "code",
      "source": [
        "valor1 = input('Digite o numerador ')\n",
        "valor2 = input('Digite o denominador ')\n",
        "divisao = int(valor1) // int(valor2)\n",
        "print(f'A divisão dos valores é',divisao)"
      ],
      "metadata": {
        "colab": {
          "base_uri": "https://localhost:8080/"
        },
        "id": "iQ9Izx0_5mNx",
        "outputId": "833bc994-9d99-45a0-8506-c18b392d616f"
      },
      "execution_count": null,
      "outputs": [
        {
          "output_type": "stream",
          "name": "stdout",
          "text": [
            "Digite o numerador 5\n",
            "Digite o denominador 2\n",
            "A divisão dos valores é 2\n"
          ]
        }
      ]
    },
    {
      "cell_type": "markdown",
      "source": [
        "Crie um programa que solicite dois valores numéricos, um numerador e um denominador, e retorne o resto da divisão entre os dois valores. Deixe claro que o valor do denominador não pode ser 0"
      ],
      "metadata": {
        "id": "qm9y8JjH6EC3"
      }
    },
    {
      "cell_type": "code",
      "source": [
        "valor1 = input('Digite o numerador ')\n",
        "valor2 = input('Digite o denominador ')\n",
        "resto = int(valor1) % int(valor2)\n",
        "print(f'O resto é ', resto)"
      ],
      "metadata": {
        "colab": {
          "base_uri": "https://localhost:8080/"
        },
        "id": "JRVqE0sK54xJ",
        "outputId": "be6cbb4a-0ed4-4e4c-9934-33895f57cbbb"
      },
      "execution_count": null,
      "outputs": [
        {
          "output_type": "stream",
          "name": "stdout",
          "text": [
            "Digite o numerador 5\n",
            "Digite o denominador 2\n",
            "O resto é  1\n"
          ]
        }
      ]
    },
    {
      "cell_type": "markdown",
      "source": [
        "Crie um código que solicita 3 notas de um estudante e imprima a média das notas."
      ],
      "metadata": {
        "id": "NjDJ5WS56eTH"
      }
    },
    {
      "cell_type": "code",
      "source": [
        "nota1 = float(input('Digite a primeira nota: '))\n",
        "nota2 = float(input('Digite a segunda nota: '))\n",
        "nota3 = float(input('Digite a terceira nota: '))\n",
        "media = (nota1 + nota2 + nota3)/3\n",
        "print(f'A média é',media)"
      ],
      "metadata": {
        "colab": {
          "base_uri": "https://localhost:8080/"
        },
        "id": "gOLYLaQq6X58",
        "outputId": "cf132b8a-c36b-454b-f261-83852f5afc33"
      },
      "execution_count": null,
      "outputs": [
        {
          "output_type": "stream",
          "name": "stdout",
          "text": [
            "Digite a primeira nota: 5\n",
            "Digite a segunda nota: 6\n",
            "Digite a terceira nota: 7\n",
            "A média é 6.0\n"
          ]
        }
      ]
    },
    {
      "cell_type": "markdown",
      "source": [
        "Crie um código que calcule e imprima a média ponderada dos números 5, 12, 20 e 15 com pesos respectivamente iguais a 1, 2, 3 e 4."
      ],
      "metadata": {
        "id": "KQO74-sn97Wb"
      }
    },
    {
      "cell_type": "code",
      "source": [
        "nota1 = float(5)\n",
        "nota2 = float(12)\n",
        "nota3 = float(20)\n",
        "nota4 = float(15)\n",
        "media_ponderada = (nota1 * 1 + nota2 * 2 + nota3 * 3 + nota4 * 4)/(1+2+3+4)\n",
        "print(f'A média ponderada é ', media_ponderada)"
      ],
      "metadata": {
        "colab": {
          "base_uri": "https://localhost:8080/"
        },
        "id": "9dgE7TKb9zrx",
        "outputId": "ae558f76-8671-4994-e1b8-2a58c9af0114"
      },
      "execution_count": null,
      "outputs": [
        {
          "output_type": "stream",
          "name": "stdout",
          "text": [
            "A média ponderada é  14.9\n"
          ]
        }
      ]
    },
    {
      "cell_type": "markdown",
      "source": [
        "#Editando textos"
      ],
      "metadata": {
        "id": "ZVKoe9IVV0YQ"
      }
    },
    {
      "cell_type": "markdown",
      "source": [
        "Crie uma variável chamada “frase” e atribua a ela uma string de sua escolha. Em seguida, imprima a frase na tela."
      ],
      "metadata": {
        "id": "f9LiwH1rV8Ch"
      }
    },
    {
      "cell_type": "code",
      "source": [
        "frase = 'Olá Mundo'\n",
        "print(frase)"
      ],
      "metadata": {
        "colab": {
          "base_uri": "https://localhost:8080/"
        },
        "id": "pfRIjRYSVWNL",
        "outputId": "7bb6570e-a175-4d9f-dbe3-de3c6e9a3da2"
      },
      "execution_count": null,
      "outputs": [
        {
          "output_type": "stream",
          "name": "stdout",
          "text": [
            "Olá Mundo\n"
          ]
        }
      ]
    },
    {
      "cell_type": "markdown",
      "source": [
        "Crie um código que solicite uma frase e depois imprima a frase na tela."
      ],
      "metadata": {
        "id": "SqIaKOeAWPPh"
      }
    },
    {
      "cell_type": "code",
      "source": [
        "frase = input('Digite uma frase: ')\n",
        "print(frase)"
      ],
      "metadata": {
        "colab": {
          "base_uri": "https://localhost:8080/"
        },
        "id": "PedrSBEgWH0u",
        "outputId": "e701fa0e-5789-4756-b9df-3c17207d0c1e"
      },
      "execution_count": null,
      "outputs": [
        {
          "output_type": "stream",
          "name": "stdout",
          "text": [
            "Digite uma frase: Olá Mundo\n",
            "Olá Mundo\n"
          ]
        }
      ]
    },
    {
      "cell_type": "markdown",
      "source": [
        "Crie um código que solicite uma frase à pessoa usuária e imprima a mesma frase digitada mas com todas as letras maiúsculas."
      ],
      "metadata": {
        "id": "4paXznLnWida"
      }
    },
    {
      "cell_type": "code",
      "source": [
        "frase = input('Digite uma frase:')\n",
        "print(frase.upper())\n"
      ],
      "metadata": {
        "colab": {
          "base_uri": "https://localhost:8080/"
        },
        "id": "GRAWw0mbWWny",
        "outputId": "766412cb-9d33-4994-e23a-83ae50002efe"
      },
      "execution_count": null,
      "outputs": [
        {
          "output_type": "stream",
          "name": "stdout",
          "text": [
            "Digite uma frase:Olá Mundo\n",
            "OLÁ MUNDO\n"
          ]
        }
      ]
    },
    {
      "cell_type": "markdown",
      "source": [
        "Crie um código que solicite uma frase à pessoa usuária e imprima a mesma frase digitada mas com todas as letras minúsculas."
      ],
      "metadata": {
        "id": "LiKVb9lPYBBS"
      }
    },
    {
      "cell_type": "code",
      "source": [
        "frase = input('Digite uma frase:')\n",
        "print(frase.lower())"
      ],
      "metadata": {
        "colab": {
          "base_uri": "https://localhost:8080/"
        },
        "id": "oaODmvDDXyyo",
        "outputId": "a87bbc97-16cf-433c-93d9-1193082949fa"
      },
      "execution_count": null,
      "outputs": [
        {
          "output_type": "stream",
          "name": "stdout",
          "text": [
            "Digite uma frase:Olá Mundo\n",
            "olá mundo\n"
          ]
        }
      ]
    },
    {
      "cell_type": "markdown",
      "source": [
        "Crie uma variável chamada “frase” e atribua a ela uma string de sua escolha. Em seguida, imprima a frase sem espaços em branco no início e no fim."
      ],
      "metadata": {
        "id": "TNV9QnYIYNI-"
      }
    },
    {
      "cell_type": "code",
      "source": [
        "frase = '   Olá Mundo   '\n",
        "print(frase.strip())"
      ],
      "metadata": {
        "colab": {
          "base_uri": "https://localhost:8080/"
        },
        "id": "bdLLUvi8YEp9",
        "outputId": "d8b232f1-fde6-44d5-8220-36041ec1570f"
      },
      "execution_count": null,
      "outputs": [
        {
          "output_type": "stream",
          "name": "stdout",
          "text": [
            "Olá Mundo\n"
          ]
        }
      ]
    },
    {
      "cell_type": "markdown",
      "source": [
        "Crie um código que solicite uma frase à pessoa usuária e imprima a mesma frase sem espaços em branco no início e no fim."
      ],
      "metadata": {
        "id": "H-WuWpN-ZH4S"
      }
    },
    {
      "cell_type": "code",
      "source": [
        "frase = input('Digite uma frase:')\n",
        "print(frase.strip())"
      ],
      "metadata": {
        "colab": {
          "base_uri": "https://localhost:8080/"
        },
        "id": "mriEm9cVYjL8",
        "outputId": "7e793686-4436-4d95-98b5-1e9ed4d79326"
      },
      "execution_count": null,
      "outputs": [
        {
          "output_type": "stream",
          "name": "stdout",
          "text": [
            "Digite uma frase:  Olá Mundo\n",
            "Olá Mundo\n"
          ]
        }
      ]
    },
    {
      "cell_type": "markdown",
      "source": [
        "Crie um código que solicite uma frase à pessoa usuária e imprima a mesma frase sem espaços em branco no início e no fim e em letras minúsculas."
      ],
      "metadata": {
        "id": "wegf49G2Zlc5"
      }
    },
    {
      "cell_type": "code",
      "source": [
        "frase = input('Digite uma frase: ')\n",
        "print(frase.strip().lower())"
      ],
      "metadata": {
        "colab": {
          "base_uri": "https://localhost:8080/"
        },
        "id": "RgwQ6IEpZZtl",
        "outputId": "6107c4de-0888-4778-fbd1-e43d0a5f24e1"
      },
      "execution_count": null,
      "outputs": [
        {
          "output_type": "stream",
          "name": "stdout",
          "text": [
            "Digite uma frase: oLÁ mUNDO\n",
            "olá mundo\n"
          ]
        }
      ]
    },
    {
      "cell_type": "markdown",
      "source": [
        "Crie um código que solicite uma frase à pessoa usuária e imprima a mesma frase com todas as vogais “e” trocadas pela letra “f”."
      ],
      "metadata": {
        "id": "JL4NgxqlaACK"
      }
    },
    {
      "cell_type": "code",
      "source": [
        "frase = input('Digite uma frase: ')\n",
        "print(frase.replace('e','f'))\n"
      ],
      "metadata": {
        "colab": {
          "base_uri": "https://localhost:8080/"
        },
        "id": "zPqcwv7CZ1Px",
        "outputId": "a16c2a9d-aee1-4981-cf29-b157ace82693"
      },
      "execution_count": null,
      "outputs": [
        {
          "output_type": "stream",
          "name": "stdout",
          "text": [
            "Digite uma frase: Meu amor\n",
            "Mfu amor\n"
          ]
        }
      ]
    },
    {
      "cell_type": "markdown",
      "source": [
        "Crie um código que solicite uma frase à pessoa usuária e imprima a mesma frase com todas as vogais “a” trocadas pela caractere “@”."
      ],
      "metadata": {
        "id": "cKiXv34HacAw"
      }
    },
    {
      "cell_type": "code",
      "source": [
        "frase = input('Digite uma frase: ')\n",
        "print(frase.replace('a','@'))"
      ],
      "metadata": {
        "colab": {
          "base_uri": "https://localhost:8080/"
        },
        "id": "HpS28_RgaRG_",
        "outputId": "c805d508-df95-45cd-a5b7-471711a32077"
      },
      "execution_count": null,
      "outputs": [
        {
          "output_type": "stream",
          "name": "stdout",
          "text": [
            "Digite uma frase: Maria Eduarda\n",
            "M@ri@ Edu@rd@\n"
          ]
        }
      ]
    },
    {
      "cell_type": "markdown",
      "source": [
        "Crie um código que solicite uma frase à pessoa usuária e imprima a mesma frase com todas as consoantes “s” trocadas pelo caractere “$”."
      ],
      "metadata": {
        "id": "0p6D2Aieare1"
      }
    },
    {
      "cell_type": "code",
      "source": [
        "frase = input('Digite uma frase: ')\n",
        "print(frase.replace('s','$'))"
      ],
      "metadata": {
        "colab": {
          "base_uri": "https://localhost:8080/"
        },
        "id": "2y9-lBaDajok",
        "outputId": "5bd028f1-f03d-4c85-b896-2bd053caad27"
      },
      "execution_count": null,
      "outputs": [
        {
          "output_type": "stream",
          "name": "stdout",
          "text": [
            "Digite uma frase: sol\n",
            "$ol\n"
          ]
        }
      ]
    },
    {
      "cell_type": "markdown",
      "source": [
        "#Desafio: hora da prática 2\n",
        "\n",
        "##Vamos praticar o uso de estruturas condicionais como o if, else e elif a partir de algumas atividades"
      ],
      "metadata": {
        "id": "SWX9v6AhfZtg"
      }
    },
    {
      "cell_type": "markdown",
      "source": [
        "1) Escreva um programa que peça à pessoa usuária para fornecer dois números e exibir o número maior."
      ],
      "metadata": {
        "id": "kmoSMLLKfi7l"
      }
    },
    {
      "cell_type": "code",
      "source": [
        "numero1 = int(input('Digite o primeiro número: '))\n",
        "numero2 = int(input('Digite o segundo número:'))\n",
        "if numero1 > numero2:\n",
        "  print(f' O número {numero1} é maior')\n",
        "else:\n",
        "  print(f'{numero2} é maior')"
      ],
      "metadata": {
        "id": "Y_M2vW8Kav8O",
        "colab": {
          "base_uri": "https://localhost:8080/"
        },
        "outputId": "7f9f46c6-25ed-4df9-c958-9d9432dd69ac"
      },
      "execution_count": null,
      "outputs": [
        {
          "output_type": "stream",
          "name": "stdout",
          "text": [
            "Digite o primeiro número: 2\n",
            "Digite o segundo número:8\n",
            "8 é maior\n"
          ]
        }
      ]
    },
    {
      "cell_type": "markdown",
      "source": [
        "Escreva um programa que solicite o percentual de crescimento de produção de uma empresa e informe se houve um crescimento (porcentagem positiva) ou decrescimento (porcentagem negativa)."
      ],
      "metadata": {
        "id": "6fYTtxaChVoi"
      }
    },
    {
      "cell_type": "code",
      "source": [
        "percentual_inicial = float(input('Digite o valor inicial:'))\n",
        "percentual_final = float(input('Digite o valor final:'))\n",
        "if percentual_inicial > 0:\n",
        "  crescimento = (percentual_final - percentual_inicial)/percentual_inicial * 100\n",
        "  print(f'Houve um crescimento de {crescimento:.2f}%')\n",
        "elif percentual_inicial == 0:\n",
        "  print('Não houve crescimento')\n",
        "else:\n",
        "  decrescimento = (percentual_final - percentual_inicial)/percentual_inicial * 100\n",
        "  print(f'Houve um decrescimento de {decrescimento:.2f}%')\n"
      ],
      "metadata": {
        "colab": {
          "base_uri": "https://localhost:8080/"
        },
        "id": "_KOoKkbrgjAj",
        "outputId": "961dfa81-7b22-47e3-fe18-423467daee13"
      },
      "execution_count": null,
      "outputs": [
        {
          "output_type": "stream",
          "name": "stdout",
          "text": [
            "Digite o valor inicial:-999\n",
            "Digite o valor final:555\n",
            "Houve um decrescimento de -155.56%\n"
          ]
        }
      ]
    },
    {
      "cell_type": "markdown",
      "source": [
        "Escreva um programa que determine se uma letra fornecida pela pessoa usuária é uma vogal ou consoante."
      ],
      "metadata": {
        "id": "YKh7oASSnDp4"
      }
    },
    {
      "cell_type": "code",
      "source": [
        "letra = input('Digite uma letra:').lower()\n",
        "vogais = 'aeiou'\n",
        "if letra in vogais:\n",
        "  print('É uma vogal')\n",
        "else:\n",
        "  print('É uma consoante')\n"
      ],
      "metadata": {
        "id": "rV9ASQc8juKD",
        "colab": {
          "base_uri": "https://localhost:8080/"
        },
        "outputId": "df9b2629-6da2-4542-dad5-04f6eb199a65"
      },
      "execution_count": null,
      "outputs": [
        {
          "output_type": "stream",
          "name": "stdout",
          "text": [
            "Digite uma letra:A\n",
            "É uma vogal\n"
          ]
        }
      ]
    },
    {
      "cell_type": "markdown",
      "source": [
        "Escreva um programa que leia valores médios de preços de um modelo de carro por 3 anos consecutivos e exiba o valor mais alto e mais baixo entre esses três anos."
      ],
      "metadata": {
        "id": "kUXjTdLVn5K3"
      }
    },
    {
      "cell_type": "code",
      "source": [
        "valor_1 = float(input('Digite o valor do primeiro ano: '))\n",
        "valor_2 = float(input('Digite o valor do segundo ano: '))\n",
        "valor_3 = float(input('Digite o valor do terceiro ano: '))\n",
        "if valor_1 > valor_2 and valor_1 > valor_3:\n",
        "  print(f'O maior valor é {valor_1}')\n",
        "elif valor_2 > valor_1 and valor_2 > valor_3:\n",
        "  print(f'O maior valor é {valor_2}')\n",
        "else :\n",
        "  print(f'O maior valor é {valor_3}')\n",
        "\n",
        "if valor_1 < valor_2 and valor_1 < valor_3:\n",
        "  print(f'O menor valor é {valor_1}')\n",
        "elif valor_2 < valor_1 and valor_2 < valor_3:\n",
        "  print(f'O menor valor é {valor_2}')\n",
        "else :\n",
        "  print(f'O menor valor é {valor_3}')\n",
        "\n"
      ],
      "metadata": {
        "colab": {
          "base_uri": "https://localhost:8080/"
        },
        "id": "jm7rmmbfni4D",
        "outputId": "d7a3171b-5a67-4c36-abf4-67a4d3700b94"
      },
      "execution_count": null,
      "outputs": [
        {
          "output_type": "stream",
          "name": "stdout",
          "text": [
            "Digite o valor do primeiro ano: 52.000\n",
            "Digite o valor do segundo ano: 30.000\n",
            "Digite o valor do terceiro ano: 50.000\n",
            "O maior valor é 52.0\n",
            "O menor valor é 30.0\n"
          ]
        }
      ]
    },
    {
      "cell_type": "markdown",
      "source": [
        " Escreva um programa que pergunte sobre o preço de três produtos e indique qual é o produto mais barato para comprar."
      ],
      "metadata": {
        "id": "XxVo4ekWp3HB"
      }
    },
    {
      "cell_type": "code",
      "source": [
        "preco_1 = float(input('Digite o preço do primeiro produto: '))\n",
        "preco_2 = float(input('Digite o preço do segundo produto: '))\n",
        "preco_3 = float(input('Digite o preço do terceiro produto: '))\n",
        "\n",
        "if preco_1 < preco_2 and preco_1 < preco_3:\n",
        "  print(f'O preço mais barato é {preco_1}')\n",
        "elif preco_2 < preco_1 and preco_2 < preco_3:\n",
        "  print(f'O preço mais barato é {preco_2}')\n",
        "else :\n",
        "  print(f'O preço mais barato é {preco_3}')\n"
      ],
      "metadata": {
        "colab": {
          "base_uri": "https://localhost:8080/"
        },
        "id": "WLD4k2Mxomz8",
        "outputId": "780e6c0b-cdf1-45b0-fa00-ffadd3d93e7b"
      },
      "execution_count": null,
      "outputs": [
        {
          "output_type": "stream",
          "name": "stdout",
          "text": [
            "Digite o preço do primeiro produto: 52\n",
            "Digite o preço do segundo produto: 14\n",
            "Digite o preço do terceiro produto: 0.02\n",
            "O preço mais barato é 0.02\n"
          ]
        }
      ]
    },
    {
      "cell_type": "markdown",
      "source": [
        "Escreva um programa que leia três números e os exiba em ordem decrescente.\n",
        "\n"
      ],
      "metadata": {
        "id": "xbFn-7KTqpc3"
      }
    },
    {
      "cell_type": "code",
      "source": [
        "# Coletamos os 3 números\n",
        "num1 = int(input('Informe o primeiro número: '))\n",
        "num2 = int(input('Informe o segundo número: '))\n",
        "num3 = int(input('Informe o terceiro número: '))\n",
        "\n",
        "# Comparação entre os 3 números\n",
        "if (num1 >= num2) and (num1 >= num3):\n",
        "    print(num1)\n",
        "    if num2 >= num3:\n",
        "        print(num2)\n",
        "        print(num3)\n",
        "    else:\n",
        "        print(num3)\n",
        "        print(num2)\n",
        "elif (num2 >= num1) and (num2 >= num3):\n",
        "    print(num2)\n",
        "    if num1 >= num3:\n",
        "        print(num1)\n",
        "        print(num3)\n",
        "    else:\n",
        "        print(num3)\n",
        "        print(num1)\n",
        "else:\n",
        "    print(num3)\n",
        "    if num1 >= num2:\n",
        "        print(num1)\n",
        "        print(num2)\n",
        "    else:\n",
        "        print(num2)\n",
        "        print(num1)"
      ],
      "metadata": {
        "id": "eGMqPMN2qfGG"
      },
      "execution_count": null,
      "outputs": []
    },
    {
      "cell_type": "markdown",
      "source": [
        "Escreva um programa que pergunte em qual turno a pessoa usuária estuda (\"manhã\", \"tarde\" ou \"noite\") e exiba a mensagem \"Bom Dia!\", \"Boa Tarde!\", \"Boa Noite!\", ou \"Valor Inválido!\", conforme o caso."
      ],
      "metadata": {
        "id": "f9gPsniZsOqw"
      }
    },
    {
      "cell_type": "code",
      "source": [
        "turno = input('Em qual turno você estuda?').lower()\n",
        "if turno == 'manhã':\n",
        "  print('Bom dia')\n",
        "elif turno == 'tarde':\n",
        "  print('Boa tarde')\n",
        "elif turno == 'noite':\n",
        "  print('Boa noite')\n",
        "else:\n",
        "  print('Valor inválido')"
      ],
      "metadata": {
        "colab": {
          "base_uri": "https://localhost:8080/"
        },
        "id": "KZwR4tRZsPBQ",
        "outputId": "649bc1a1-8231-4d06-c89f-906d75ea6113"
      },
      "execution_count": null,
      "outputs": [
        {
          "output_type": "stream",
          "name": "stdout",
          "text": [
            "Em qual turno você estuda?TARDE\n",
            "Boa tarde\n"
          ]
        }
      ]
    },
    {
      "cell_type": "markdown",
      "source": [
        " Escreva um programa que peça um número inteiro à pessoa usuária e determine se ele é par ou ímpar. Dica: Você pode utilizar o operador módulo %."
      ],
      "metadata": {
        "id": "ZWtVee2Gsy2B"
      }
    },
    {
      "cell_type": "code",
      "source": [
        "numero = int(input('Digite um número:'))\n",
        "if numero % 2 == 0:\n",
        "  print('O número é par')\n",
        "else :\n",
        "  print('O número é ímpar')"
      ],
      "metadata": {
        "colab": {
          "base_uri": "https://localhost:8080/"
        },
        "id": "y7clOpqssdGS",
        "outputId": "4f4c24c5-b2f3-498e-cbcc-6ae87f6660bd"
      },
      "execution_count": null,
      "outputs": [
        {
          "output_type": "stream",
          "name": "stdout",
          "text": [
            "Digite um número:4\n",
            "O número é par\n"
          ]
        }
      ]
    },
    {
      "cell_type": "markdown",
      "source": [
        "Escreva um programa que peça um número à pessoa usuária e informe se ele é inteiro ou decimal."
      ],
      "metadata": {
        "id": "G06YNjMKsx90"
      }
    },
    {
      "cell_type": "code",
      "source": [
        "numero = float(input('Digite um número:'))\n",
        "if numero % 1 == 0:\n",
        "  print('O número é inteiro')\n",
        "else :\n",
        "  print('O número é decimal')"
      ],
      "metadata": {
        "colab": {
          "base_uri": "https://localhost:8080/"
        },
        "id": "QzJPXk1EtJmr",
        "outputId": "fa26ffde-bdfd-4ee0-db24-05b83ff40886"
      },
      "execution_count": null,
      "outputs": [
        {
          "output_type": "stream",
          "name": "stdout",
          "text": [
            "Digite um número:6.8\n",
            "O número é decimal\n"
          ]
        }
      ]
    },
    {
      "cell_type": "markdown",
      "source": [
        "Um programa deve ser escrito para ler dois números e, em seguida, perguntar à pessoa usuária qual operação ele deseja realizar. O resultado da operação deve incluir informações sobre o número - se é par ou ímpar, positivo ou negativo e inteiro ou decimal."
      ],
      "metadata": {
        "id": "k72O-ipR7q-8"
      }
    },
    {
      "cell_type": "code",
      "source": [
        "numero_1 = float(input('Digite o primeiro número: '))\n",
        "numero_2 = float(input('Digite o segundo número: '))\n",
        "operacao = input('Qual a operação você deseja realizar? ')\n",
        "\n",
        "if operacao == '+':\n",
        "  resultado = numero_1 + numero_2\n",
        "elif operacao == '-':\n",
        "  resultado = numero_1 - numero_2\n",
        "elif operacao == '*':\n",
        "  resultado = numero_1 * numero_2\n",
        "elif operacao == '/':\n",
        "  resultado = numero_1 / numero_2\n",
        "else:\n",
        "  print('Operação inválida')\n",
        "if resultado % 2 == 0:\n",
        "  paridade = 'O número é par'\n",
        "else :\n",
        "  paridade = 'O número é ímpar'\n",
        "\n",
        "  if resultado % 1 == 0:\n",
        "    tipo_numero = 'O número é inteiro'\n",
        "  else :\n",
        "    tipo_numero = 'O número é decimal'\n",
        "\n",
        "  if resultado > 0:\n",
        "    sinal = 'O número é positivo'\n",
        "  else:\n",
        "    sinal = 'O número é negativo'\n",
        "\n",
        "print(f'{paridade}, {tipo_numero} e {sinal}')"
      ],
      "metadata": {
        "colab": {
          "base_uri": "https://localhost:8080/"
        },
        "id": "VgwusoNQ7Ynt",
        "outputId": "1482b6f3-c636-4c5b-87da-fbc9e388bb4d"
      },
      "execution_count": null,
      "outputs": [
        {
          "output_type": "stream",
          "name": "stdout",
          "text": [
            "Digite o primeiro número: 5\n",
            "Digite o segundo número: 5.5\n",
            "Qual a operação você deseja realizar? +\n",
            "O número é ímpar, O número é decimal e O número é positivo\n"
          ]
        }
      ]
    },
    {
      "cell_type": "markdown",
      "source": [
        "Escreva um programa que peça à pessoa usuária três números que representam os lados de um triângulo. O programa deve informar se os valores podem ser utilizados para formar um triângulo e, caso afirmativo, se ele é equilátero, isósceles ou escaleno. Tenha em mente algumas dicas:\n",
        "\n",
        "Três lados formam um triângulo quando a soma de quaisquer dois lados for maior que o terceiro;\n",
        "Triângulo Equilátero: três lados iguais;\n",
        "Triângulo Isósceles: quaisquer dois lados iguais;\n",
        "Triângulo Escaleno: três lados diferentes."
      ],
      "metadata": {
        "id": "Jsf6EaGJ-VkG"
      }
    },
    {
      "cell_type": "code",
      "source": [
        "numero_1 = float(input('Digite o primeiro número: '))\n",
        "numero_2 = float(input('Digite o segundo número: '))\n",
        "numero_3 = float(input('Digite o terceiro número: '))\n",
        "if numero_1 + numero_2 > numero_3:\n",
        "  if numero_1 == numero_2 and numero_1 == numero_3:\n",
        "    print('Triângulo equilátero')\n",
        "  elif numero_1 == numero_2 or numero_1 == numero_3 or numero_2 == numero_3:\n",
        "    print('Triângulo isósceles')\n",
        "  else:\n",
        "    print('Triângulo escaleno')\n",
        "else:\n",
        "  print('Não é um triângulo')\n"
      ],
      "metadata": {
        "colab": {
          "base_uri": "https://localhost:8080/"
        },
        "id": "v1NJanLY8j5h",
        "outputId": "141ec5c8-b2ba-4d1e-d08e-e047b82a1eef"
      },
      "execution_count": null,
      "outputs": [
        {
          "output_type": "stream",
          "name": "stdout",
          "text": [
            "Digite o primeiro número: 5\n",
            "Digite o segundo número: 2\n",
            "Digite o terceiro número: 5\n",
            "Triângulo isósceles\n"
          ]
        }
      ]
    },
    {
      "cell_type": "markdown",
      "source": [
        "Um estabelecimento está vendendo combustíveis com descontos variados. Para o etanol, se a quantidade comprada for até 15 litros, o desconto será de 2% por litro. Caso contrário, será de 4% por litro. Para o diesel, se a quantidade comprada for até 15 litros, o desconto será de 3% por litro. Caso contrário, será de 5% por litro. O preço do litro de diesel é R$ 2,00 e o preço do litro de etanol é R$ 1,70. Escreva um programa que leia a quantidade de litros vendidos e o tipo de combustível (E para etanol e D para diesel) e calcule o valor a ser pago pelo cliente. Tenha em mente algumas dicas:\n",
        "\n",
        "O do valor do desconto será a multiplicação entre preço do litro, quantidade de litros e o valor do desconto.\n",
        "O valor a ser pago por um cliente será o resultado da multiplicação do preço do litro pela quantidade de litros menos o valor de desconto resultante do cálculo."
      ],
      "metadata": {
        "id": "yWkH0BOh-w4S"
      }
    },
    {
      "cell_type": "code",
      "source": [
        "# Coleta a quantidade de litros e o tipo de combustível, convertendo o tipo para maiúsculo\n",
        "quantidade_litros = float(input('Informe a quantidade de litros vendidos: '))\n",
        "tipo_combustivel = input('Informe o tipo de combustível (E para etanol e D para diesel): ').upper()\n",
        "\n",
        "# Inicializa o preço e desconto\n",
        "preco_litro = 0\n",
        "desconto = 0\n",
        "\n",
        "# Verifica o tipo de combustível\n",
        "if tipo_combustivel == 'E':\n",
        "    preco_litro = 1.70\n",
        "    if quantidade_litros <= 15:\n",
        "        desconto = 0.02\n",
        "    else:\n",
        "        desconto = 0.04\n",
        "elif tipo_combustivel == 'D':\n",
        "    preco_litro = 2.00\n",
        "    if quantidade_litros <= 15:\n",
        "        desconto = 0.03\n",
        "    else:\n",
        "        desconto = 0.05\n",
        "else:\n",
        "    print('Entradas inválidas!')\n",
        "    preco_litro = 0\n",
        "    desconto = 0\n",
        "\n",
        "# Faz o cálculo do valor de desconto e do valor a ser pago\n",
        "valor_desconto = preco_litro * quantidade_litros * desconto\n",
        "valor_pago = preco_litro * quantidade_litros - valor_desconto\n",
        "\n",
        "# Resultado\n",
        "print(f'Valor a ser pago pelo cliente: R$ {valor_pago:.2f}')\n"
      ],
      "metadata": {
        "colab": {
          "base_uri": "https://localhost:8080/"
        },
        "id": "9hh4ZV5W-nRa",
        "outputId": "916bfdb6-75a7-4ddb-9b71-f36c360eee7e"
      },
      "execution_count": null,
      "outputs": [
        {
          "output_type": "stream",
          "name": "stdout",
          "text": [
            "Informe a quantidade de litros vendidos: 5\n",
            "Informe o tipo de combustível (E para etanol e D para diesel): E\n",
            "Valor a ser pago pelo cliente: R$ 8.33\n"
          ]
        }
      ]
    },
    {
      "cell_type": "markdown",
      "source": [
        "Em uma empresa de venda de imóveis você precisa criar um código que analise os dados de vendas anuais para ajudar a diretoria na tomada de decisão. O código precisa coletar os dados de quantidade de venda durante os anos de 2022 e 2023 e fazer um cálculo de variação percentual. A partir do valor da variação, deve ser enviada às seguintes sugestões:\n",
        "\n",
        "Para variação acima de 20%: bonificação para o time de vendas.\n",
        "Para variação entre 2% e 20%: pequena bonificação para time de vendas.\n",
        "Para variação entre 2% e -10%: planejamento de políticas de incentivo às vendas.\n",
        "Para bonificações abaixo de -10%: corte de gastos."
      ],
      "metadata": {
        "id": "syATSpBTAA0k"
      }
    },
    {
      "cell_type": "code",
      "source": [
        "# Coletamos as vendas dos dois anos\n",
        "venda_2022 = float(input('Informe a quantidade de vendas em 2022: '))\n",
        "venda_2023 = float(input('Informe a quantidade de vendas em 2023: '))\n",
        "\n",
        "# Calculamos a variação percentual entre as vendas dos anos de 2022 e 2023\n",
        "var_percentual = 100 * (venda_2023 - venda_2022) / (venda_2022)\n",
        "\n",
        "# Análise condicional da variação percentual para determinar a sugestão a ser enviada\n",
        "if var_percentual > 20:\n",
        "    print('Bonificação para o time de vendas.')\n",
        "elif 2 <= var_percentual <= 20:\n",
        "    print('Pequena bonificação para time de vendas.')\n",
        "elif -10 <= var_percentual < 2:\n",
        "    print('Planejamento de políticas de incentivo às vendas.')\n",
        "else:\n",
        "    print('Corte de gastos.')"
      ],
      "metadata": {
        "colab": {
          "base_uri": "https://localhost:8080/"
        },
        "id": "FWCp-Lf9_eDV",
        "outputId": "4e028435-b153-4d19-d7ee-ce01ac27fa10"
      },
      "execution_count": null,
      "outputs": [
        {
          "output_type": "stream",
          "name": "stdout",
          "text": [
            "Informe a quantidade de vendas em 2022: 18\n",
            "Informe a quantidade de vendas em 2023: 10\n",
            "Corte de gastos.\n"
          ]
        }
      ]
    },
    {
      "cell_type": "markdown",
      "source": [
        "#ESTRUTURA DE REPETIÇÃO"
      ],
      "metadata": {
        "id": "IuiwOGEVNJOV"
      }
    },
    {
      "cell_type": "markdown",
      "source": [
        "Desafio: hora da prática 3\n",
        "\n",
        "Vamos praticar o uso de estruturas de repetição como o while e o for a partir de algumas atividades"
      ],
      "metadata": {
        "id": "IoOgneoTNON5"
      }
    },
    {
      "cell_type": "markdown",
      "source": [
        "Escreva um programa que peça dois números inteiros e imprima todos os números inteiros entre eles.\n",
        "\n",
        "\n",
        "\n",
        "\n",
        "\n",
        "\n"
      ],
      "metadata": {
        "id": "zBvavBjYNbOi"
      }
    },
    {
      "cell_type": "code",
      "source": [
        "numero_1 = int(input('Digite o primeiro número: '))  # Converte para inteiro\n",
        "numero_2 = int(input('Digite o segundo número: '))\n",
        "if numero_1 < numero_2:                         # Verifica se o primeiro número é menor que o segundo\n",
        "  for i in range(numero_1 + 1, numero_2):\n",
        "    print(i)\n",
        "elif numero1 > numero_2:                       # Verifica se o primeiro número é maior que o segundo\n",
        "   for i in range(numero_1 - 1, numero_2 -1):\n",
        "        print(i)\n",
        "else:\n",
        "  print('Não há números inteiros entre os dois números informados')   # Se os números forem iguais, exibe uma mensagem indicando que não há números entre eles\n",
        "\n",
        "\n",
        "\n"
      ],
      "metadata": {
        "id": "5u-o9nIiAQvZ",
        "colab": {
          "base_uri": "https://localhost:8080/"
        },
        "outputId": "ff721e23-88cc-44c2-bdd0-83dc18beefa0"
      },
      "execution_count": null,
      "outputs": [
        {
          "output_type": "stream",
          "name": "stdout",
          "text": [
            "Digite o primeiro número: 1\n",
            "Digite o segundo número: 10\n",
            "2\n",
            "3\n",
            "4\n",
            "5\n",
            "6\n",
            "7\n",
            "8\n",
            "9\n"
          ]
        }
      ]
    },
    {
      "cell_type": "markdown",
      "source": [
        "Escreva um programa para calcular quantos dias levará para a colônia de uma bactéria A ultrapassar ou igualar a colônia de uma bactéria B, com base nas taxas de crescimento de 3% e 1,5% respectivamente. Considere que a colônia A inicia com 4 elementos e a B com 10."
      ],
      "metadata": {
        "id": "jF5qgFQXQ82d"
      }
    },
    {
      "cell_type": "code",
      "source": [
        "colonia_a = 4\n",
        "colonia_b = 10\n",
        "taxa_crescimento_a = 0.03\n",
        "taxa_crescimento_b = 0.015\n",
        "dias = 0\n",
        "\n",
        "while colonia_a < colonia_b:\n",
        "  colonia_a += (colonia_a * taxa_crescimento_a)\n",
        "  colonia_b += (colonia_b * taxa_crescimento_b)\n",
        "  dias += 1\n",
        "\n",
        "print(f' A colônia A ultrapassará ou igualará a colônia B em {dias} dias.')\n"
      ],
      "metadata": {
        "colab": {
          "base_uri": "https://localhost:8080/"
        },
        "id": "gr0mqssPO9uE",
        "outputId": "bee8683e-1005-4d24-a4b4-4221b9c42bf8"
      },
      "execution_count": null,
      "outputs": [
        {
          "output_type": "stream",
          "name": "stdout",
          "text": [
            " A colônia A ultrapassará ou igualará a colônia B em 63 dias.\n"
          ]
        }
      ]
    },
    {
      "cell_type": "markdown",
      "source": [
        "3) Para tratar uma quantidade de 15 dados de avaliações de pessoas usuárias de um serviço da empresa, precisamos verificar se as notas são válidas. Então, escreva um programa que vai receber a nota de 0 a 5 de todos os dados e verificar se é um valor válido. Caso seja inserido uma nota acima de 5 ou abaixo de 0, repita até que a pessoa usuária insira um valor válido."
      ],
      "metadata": {
        "id": "6LfpWD_e5foX"
      }
    },
    {
      "cell_type": "code",
      "source": [
        "\n",
        "for i in range(15):                                                 # laço para pegar as 15 notas\n",
        "  nota = float(input(f'Insira a nota da pessoa usuária {i}: '))\n",
        "\n",
        "  while (nota < 0)or (nota > 5):                                          # verifica se a nota está entre 0 e 5 # se estiver, o laço rodará ininterruptamente até ser obtido um valor válido\n",
        "      nota = float(input(f'Nota inválida, insira novamente a nota da pessoa usuária {i}: '))\n",
        "\n",
        "print('Verificação feita. Todas as notas são válidas')\n"
      ],
      "metadata": {
        "colab": {
          "base_uri": "https://localhost:8080/"
        },
        "id": "8_ajzrxu8Jf6",
        "outputId": "2a0905f0-6975-4371-eb1b-06d52b609527"
      },
      "execution_count": null,
      "outputs": [
        {
          "output_type": "stream",
          "name": "stdout",
          "text": [
            "Insira a nota da pessoa usuária 0: 5\n",
            "Insira a nota da pessoa usuária 1: 0\n",
            "Insira a nota da pessoa usuária 2: -8\n",
            "Nota inválida, insira novamente a nota da pessoa usuária 2: 5\n",
            "Insira a nota da pessoa usuária 3: -9\n",
            "Nota inválida, insira novamente a nota da pessoa usuária 3: 5\n",
            "Insira a nota da pessoa usuária 4: 5\n",
            "Insira a nota da pessoa usuária 5: 10\n",
            "Nota inválida, insira novamente a nota da pessoa usuária 5: 0\n",
            "Insira a nota da pessoa usuária 6: 0\n",
            "Insira a nota da pessoa usuária 7: -5.6\n",
            "Nota inválida, insira novamente a nota da pessoa usuária 7: 6.8\n",
            "Nota inválida, insira novamente a nota da pessoa usuária 7: 8.6\n",
            "Nota inválida, insira novamente a nota da pessoa usuária 7: 6\n",
            "Nota inválida, insira novamente a nota da pessoa usuária 7: 5\n",
            "Insira a nota da pessoa usuária 8: 5\n",
            "Insira a nota da pessoa usuária 9: 5\n",
            "Insira a nota da pessoa usuária 10: 5\n",
            "Insira a nota da pessoa usuária 11: 4\n",
            "Insira a nota da pessoa usuária 12: 1\n",
            "Insira a nota da pessoa usuária 13: 1\n",
            "Insira a nota da pessoa usuária 14: 2.5\n",
            "Verificação feita. Todas as notas são válidas\n"
          ]
        }
      ]
    },
    {
      "cell_type": "markdown",
      "source": [
        "Desenvolva um programa que leia um conjunto indeterminado de temperaturas em Celsius e informe a média delas. A leitura deve ser encerrada ao ser enviado o valor -273°C.\n",
        "\n",
        "\n",
        "###Um laço  é usado para repetir a entrada de valores enquanto o usuário não digitar . Este é o critério de parada.\n",
        "\n",
        "###Dentro do laço, se a entrada não for , a temperatura é adicionada à variável  e o  é incrementado, garantindo que apenas valores válidos sejam considerados.\n",
        "\n",
        "###Após a conclusão do laço, verifica-se se o  é maior que 0 (ou seja, se pelo menos uma temperatura válida foi inserida).\n",
        "\n",
        "###Se houver valores válidos:\n",
        "###Calcula-se a média dividindo a soma total (soma) pelo número de entradas válidas (contador)."
      ],
      "metadata": {
        "id": "QVSbSWNrdZ4W"
      }
    },
    {
      "cell_type": "code",
      "source": [
        "soma = 0\n",
        "contador = 0\n",
        "temperatura = 0\n",
        "\n",
        "while temperatura != -273:\n",
        "  temperatura = float(input('\"Insira a temperatura em Celsius (-273 para encerrar): '))\n",
        "\n",
        "  if temperatura != -273:\n",
        "   soma += temperatura\n",
        "   contador += 1\n",
        "\n",
        "if contador > 0:\n",
        "  media = soma/contador\n",
        "  print(f'A média das temperaturas é {media}')\n",
        "else:\n",
        "  print('Nenhuma temperatura válida foi inserida')"
      ],
      "metadata": {
        "colab": {
          "base_uri": "https://localhost:8080/"
        },
        "id": "Bi5NJ6l3H41q",
        "outputId": "f4ed9ac9-02a6-4fcf-b5d6-738dde90cde8"
      },
      "execution_count": null,
      "outputs": [
        {
          "output_type": "stream",
          "name": "stdout",
          "text": [
            "\"Insira a temperatura em Celsius (-273 para encerrar): 85\n",
            "\"Insira a temperatura em Celsius (-273 para encerrar): 2\n",
            "\"Insira a temperatura em Celsius (-273 para encerrar): 2\n",
            "\"Insira a temperatura em Celsius (-273 para encerrar): -89\n",
            "\"Insira a temperatura em Celsius (-273 para encerrar): 3\n",
            "\"Insira a temperatura em Celsius (-273 para encerrar): 2\n",
            "\"Insira a temperatura em Celsius (-273 para encerrar): -273\n",
            "A média das temperaturas é 0.8333333333333334\n"
          ]
        }
      ]
    },
    {
      "cell_type": "markdown",
      "source": [
        " Escreva um programa que calcule o fatorial de um número inteiro fornecido pela pessoa usuária. Lembrando que o fatorial de um número inteiro é a multiplicação desse número por todos os seus antecessores até o número 1. Por exemplo, o fatorial de 5 é 5 x 4 x 3 x 2 x 1 = 120."
      ],
      "metadata": {
        "id": "B4udupaOfee7"
      }
    },
    {
      "cell_type": "code",
      "source": [
        "numero = int(input('Digite um número '))\n",
        "\n",
        "fatorial = 1\n",
        "i = numero\n",
        "\n",
        "while i > 0:\n",
        "  fatorial *= i\n",
        "  i -= 1\n",
        "\n",
        "print(f'O fatorial de {numero} é {fatorial}')\n",
        "\n"
      ],
      "metadata": {
        "colab": {
          "base_uri": "https://localhost:8080/"
        },
        "id": "l0cHVIC5fCgs",
        "outputId": "e1111034-d68f-40fa-e768-ee7b73cf4289"
      },
      "execution_count": null,
      "outputs": [
        {
          "output_type": "stream",
          "name": "stdout",
          "text": [
            "Digite um número 8\n",
            "O fatorial de 8 é 40320\n"
          ]
        }
      ]
    },
    {
      "cell_type": "markdown",
      "source": [
        "\n",
        "#Momento dos projetos\n",
        "\n"
      ],
      "metadata": {
        "id": "9nxcCQ0FO3Q1"
      }
    },
    {
      "cell_type": "markdown",
      "source": [
        "Escreva um programa que gere a tabuada de um número inteiro de 1 a 10, de acordo com a escolha da pessoa usuária. Como exemplo, para o número 2, a tabuada deve ser mostrada no seguinte formato:\n",
        "\n",
        "Tabuada do 2:\n",
        "2 x 1 = 2\n",
        "2 x 2 = 4\n",
        "[...]\n",
        "2 x 10 = 20"
      ],
      "metadata": {
        "id": "yDJFKN77O_Sf"
      }
    },
    {
      "cell_type": "code",
      "source": [
        "numero = int(input('Digite um número:'))\n",
        "print(f'Tabuada do {numero}:')\n",
        "\n",
        "for i in range(1,10):\n",
        "  resultado = numero * i\n",
        "  print(f'{numero} X {i} = {resultado}')\n",
        "\n",
        "\n"
      ],
      "metadata": {
        "id": "g5MhczVIppYP",
        "colab": {
          "base_uri": "https://localhost:8080/"
        },
        "outputId": "e6680f3b-b728-4db1-bec2-2d640b69f591"
      },
      "execution_count": null,
      "outputs": [
        {
          "output_type": "stream",
          "name": "stdout",
          "text": [
            "Digite um número:8\n",
            "Tabuada do 8:\n",
            "8 X 1 = 8\n",
            "8 X 2 = 16\n",
            "8 X 3 = 24\n",
            "8 X 4 = 32\n",
            "8 X 5 = 40\n",
            "8 X 6 = 48\n",
            "8 X 7 = 56\n",
            "8 X 8 = 64\n",
            "8 X 9 = 72\n"
          ]
        }
      ]
    },
    {
      "cell_type": "markdown",
      "source": [
        " Os números primos possuem várias aplicações dentro da Ciência de Dados em criptografia e segurança, por exemplo. Um número primo é aquele que é divisível apenas por um e por ele mesmo. Assim, faça um programa que peça um número inteiro e determine se ele é ou não um número primo."
      ],
      "metadata": {
        "id": "-5igdnfxwY99"
      }
    },
    {
      "cell_type": "code",
      "source": [
        "numero = int(input('Digite um número:'))\n",
        "\n",
        "for i in range(2, numero-1):\n",
        "  if numero % i ==0:\n",
        "    print(f'O número {numero} não é primo')\n",
        "  else:\n",
        "    print(f'O número {numero} é primo')\n",
        "  break"
      ],
      "metadata": {
        "colab": {
          "base_uri": "https://localhost:8080/"
        },
        "id": "v_Rl8WFxt6Kf",
        "outputId": "6ef72077-d9b1-4c3d-fcfd-e54ca4bfc6c5"
      },
      "execution_count": null,
      "outputs": [
        {
          "output_type": "stream",
          "name": "stdout",
          "text": [
            "Digite um número:5\n",
            "O número 5 é primo\n"
          ]
        }
      ]
    },
    {
      "cell_type": "markdown",
      "source": [
        "Vamos entender a distribuição de idades de pensionistas de uma empresa de previdência. Escreva um programa que leia as idades de uma quantidade não informada de clientes e mostre a distribuição em intervalos de [0-25], [26-50], [51-75] e [76-100]. Encerre a entrada de dados com um número negativo."
      ],
      "metadata": {
        "id": "Kg1tvSZkntcD"
      }
    },
    {
      "cell_type": "code",
      "source": [
        "contagem_0_25 = 0\n",
        "contagem_26_50 = 0\n",
        "contagem_51_75 = 0\n",
        "contagem_76_100 = 0\n",
        "\n",
        "while True:\n",
        "  idade = int(input('Digite as idades dos clientes:'))\n",
        "\n",
        "  if idade < 0:\n",
        "      break\n",
        "\n",
        "  if idade >= 0 and idade <= 25:\n",
        "    contagem_0_25 +=1\n",
        "  elif idade >= 26 and idade <= 50:\n",
        "    contagem_26_50 +=1\n",
        "  elif idade >= 51 and idade <= 75:\n",
        "    contagem_51_75 +=1\n",
        "  elif idade >= 76 and idade <= 100:\n",
        "      contagem_76_100 +=1\n",
        "  else:\n",
        "      print('Idade inválida')\n",
        "\n",
        "print('Distribuição de idades:')\n",
        "print(f'[0-25]: {contagem_0_25}')\n",
        "print(f'[26-50]: {contagem_26_50}')\n",
        "print(f'[51-75]: {contagem_51_75}')\n",
        "print(f'[76-100]: {contagem_76_100}')\n",
        "\n"
      ],
      "metadata": {
        "id": "ouPKlX3WHVUM",
        "colab": {
          "base_uri": "https://localhost:8080/"
        },
        "outputId": "8995d176-2490-4fea-cb9f-9ce6d47c72e2"
      },
      "execution_count": null,
      "outputs": [
        {
          "output_type": "stream",
          "name": "stdout",
          "text": [
            "Digite as idades dos clientes:20\n",
            "Digite as idades dos clientes:25\n",
            "Digite as idades dos clientes:24\n",
            "Digite as idades dos clientes:21\n",
            "Digite as idades dos clientes:0\n",
            "Digite as idades dos clientes:-45\n",
            "Distribuição de idades:\n",
            "[0-25]: 5\n",
            "[26-50]: 0\n",
            "[51-75]: 0\n",
            "[76-100]: 0\n"
          ]
        }
      ]
    },
    {
      "cell_type": "code",
      "source": [],
      "metadata": {
        "id": "qFkKLzLQLm2Q"
      },
      "execution_count": null,
      "outputs": []
    }
  ]
}